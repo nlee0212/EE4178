{
  "nbformat": 4,
  "nbformat_minor": 0,
  "metadata": {
    "colab": {
      "name": "Pytorch 실습.ipynb",
      "provenance": [],
      "collapsed_sections": [],
      "authorship_tag": "ABX9TyOL5218EfVV3jvNTmheyV17",
      "include_colab_link": true
    },
    "kernelspec": {
      "name": "python3",
      "display_name": "Python 3"
    },
    "accelerator": "GPU"
  },
  "cells": [
    {
      "cell_type": "markdown",
      "metadata": {
        "id": "view-in-github",
        "colab_type": "text"
      },
      "source": [
        "<a href=\"https://colab.research.google.com/github/nlee0212/EE4178/blob/master/Pytorch_Intro.ipynb\" target=\"_parent\"><img src=\"https://colab.research.google.com/assets/colab-badge.svg\" alt=\"Open In Colab\"/></a>"
      ]
    },
    {
      "cell_type": "code",
      "metadata": {
        "id": "t_YwRK8NJAsx",
        "outputId": "2225a125-7b68-40c1-ea4f-21da8194f1b1",
        "colab": {
          "base_uri": "https://localhost:8080/"
        }
      },
      "source": [
        "a = 10\n",
        "b = 1.2\n",
        "print(a,b)\n",
        "print(a+b,a-b,a*b,a/b)"
      ],
      "execution_count": 1,
      "outputs": [
        {
          "output_type": "stream",
          "text": [
            "10 1.2\n",
            "11.2 8.8 12.0 8.333333333333334\n"
          ],
          "name": "stdout"
        }
      ]
    },
    {
      "cell_type": "code",
      "metadata": {
        "id": "OyrVt4MGJTPD",
        "outputId": "b9d56744-c5dd-41a5-97ee-6fedec218efd",
        "colab": {
          "base_uri": "https://localhost:8080/"
        }
      },
      "source": [
        "quote = \"Life is too short, \"\n",
        "print(quote, \"You need Python\")"
      ],
      "execution_count": 2,
      "outputs": [
        {
          "output_type": "stream",
          "text": [
            "Life is too short,  You need Python\n"
          ],
          "name": "stdout"
        }
      ]
    },
    {
      "cell_type": "code",
      "metadata": {
        "id": "R02UIMFQJagI",
        "outputId": "0852019c-0a43-4220-b8c1-fe409bc79a1d",
        "colab": {
          "base_uri": "https://localhost:8080/"
        }
      },
      "source": [
        "quote = 'Life is too short, '\n",
        "print(quote, \"You need Python\")"
      ],
      "execution_count": 3,
      "outputs": [
        {
          "output_type": "stream",
          "text": [
            "Life is too short,  You need Python\n"
          ],
          "name": "stdout"
        }
      ]
    },
    {
      "cell_type": "code",
      "metadata": {
        "id": "-mLRs1gPJe6I"
      },
      "source": [
        "odd = [1,3,5,7,9]\n",
        "alphabet = [\"a\", \"b\", \"c\"]\n",
        "empty = []"
      ],
      "execution_count": 4,
      "outputs": []
    },
    {
      "cell_type": "code",
      "metadata": {
        "id": "kTITgskcJjyl",
        "outputId": "6599a7a4-f356-4557-bfb2-98287eda879a",
        "colab": {
          "base_uri": "https://localhost:8080/"
        }
      },
      "source": [
        "odd[1]"
      ],
      "execution_count": 5,
      "outputs": [
        {
          "output_type": "execute_result",
          "data": {
            "text/plain": [
              "3"
            ]
          },
          "metadata": {
            "tags": []
          },
          "execution_count": 5
        }
      ]
    },
    {
      "cell_type": "code",
      "metadata": {
        "id": "HK5bGWXFJlOD",
        "outputId": "4cabf91c-7e1d-4a60-b7fc-65f67f64d34f",
        "colab": {
          "base_uri": "https://localhost:8080/"
        }
      },
      "source": [
        "print(\"odd[-1]: \",odd[-1])\n",
        "print(\"odd[0:2]: \",odd[0:2]) \n",
        "# [0,2)"
      ],
      "execution_count": 6,
      "outputs": [
        {
          "output_type": "stream",
          "text": [
            "odd[-1]:  9\n",
            "odd[0:2]:  [1, 3]\n"
          ],
          "name": "stdout"
        }
      ]
    },
    {
      "cell_type": "code",
      "metadata": {
        "id": "AqL3f4GCJtjX",
        "outputId": "a86221dc-166f-4c7d-cfc9-8a3c5c4bfada",
        "colab": {
          "base_uri": "https://localhost:8080/"
        }
      },
      "source": [
        "odd[0:0]"
      ],
      "execution_count": 7,
      "outputs": [
        {
          "output_type": "execute_result",
          "data": {
            "text/plain": [
              "[]"
            ]
          },
          "metadata": {
            "tags": []
          },
          "execution_count": 7
        }
      ]
    },
    {
      "cell_type": "code",
      "metadata": {
        "id": "Dug13zYEJxNz",
        "outputId": "92b29ab9-c8fd-4197-fe91-fdbea71d1cbd",
        "colab": {
          "base_uri": "https://localhost:8080/"
        }
      },
      "source": [
        "odd[0:1]"
      ],
      "execution_count": 8,
      "outputs": [
        {
          "output_type": "execute_result",
          "data": {
            "text/plain": [
              "[1]"
            ]
          },
          "metadata": {
            "tags": []
          },
          "execution_count": 8
        }
      ]
    },
    {
      "cell_type": "code",
      "metadata": {
        "id": "9MoFcMccJ5Pi",
        "outputId": "d89deba9-a4ce-43ee-aadb-23456c0e027a",
        "colab": {
          "base_uri": "https://localhost:8080/"
        }
      },
      "source": [
        "alphabet.append(\"A\")\n",
        "alphabet.append([\"B\",\"c\"])\n",
        "alphabet"
      ],
      "execution_count": 9,
      "outputs": [
        {
          "output_type": "execute_result",
          "data": {
            "text/plain": [
              "['a', 'b', 'c', 'A', ['B', 'c']]"
            ]
          },
          "metadata": {
            "tags": []
          },
          "execution_count": 9
        }
      ]
    },
    {
      "cell_type": "code",
      "metadata": {
        "id": "h7nPQsWDJ_Uc",
        "outputId": "4afc6a18-a699-426c-a6f7-78f57f639513",
        "colab": {
          "base_uri": "https://localhost:8080/"
        }
      },
      "source": [
        "empty.append(1)\n",
        "empty.append(2)\n",
        "empty.append('3')\n",
        "empty"
      ],
      "execution_count": 10,
      "outputs": [
        {
          "output_type": "execute_result",
          "data": {
            "text/plain": [
              "[1, 2, '3']"
            ]
          },
          "metadata": {
            "tags": []
          },
          "execution_count": 10
        }
      ]
    },
    {
      "cell_type": "code",
      "metadata": {
        "id": "qpYo7K6JKG06",
        "outputId": "add9e795-ec04-4edf-b530-45fb5a18f6a7",
        "colab": {
          "base_uri": "https://localhost:8080/"
        }
      },
      "source": [
        "print(type(empty[0]))\n",
        "print(type(empty[-1]))"
      ],
      "execution_count": 11,
      "outputs": [
        {
          "output_type": "stream",
          "text": [
            "<class 'int'>\n",
            "<class 'str'>\n"
          ],
          "name": "stdout"
        }
      ]
    },
    {
      "cell_type": "code",
      "metadata": {
        "id": "Fs60GoiJKMdS",
        "outputId": "1739ed49-8a34-4228-9a53-626cf769fb4c",
        "colab": {
          "base_uri": "https://localhost:8080/"
        }
      },
      "source": [
        "dic = {'김철수': 80, '이영희': 90, \"박아무개\":85}\n",
        "print(dic['김철수'])\n",
        "print(dic.keys())\n",
        "print(dic.values())"
      ],
      "execution_count": 12,
      "outputs": [
        {
          "output_type": "stream",
          "text": [
            "80\n",
            "dict_keys(['김철수', '이영희', '박아무개'])\n",
            "dict_values([80, 90, 85])\n"
          ],
          "name": "stdout"
        }
      ]
    },
    {
      "cell_type": "code",
      "metadata": {
        "id": "0L6nhqr8KZ23",
        "outputId": "9663a5df-c048-4a29-a264-a9282ac7d874",
        "colab": {
          "base_uri": "https://localhost:8080/"
        }
      },
      "source": [
        "dic['이름'] = 100\n",
        "dic"
      ],
      "execution_count": 13,
      "outputs": [
        {
          "output_type": "execute_result",
          "data": {
            "text/plain": [
              "{'김철수': 80, '박아무개': 85, '이름': 100, '이영희': 90}"
            ]
          },
          "metadata": {
            "tags": []
          },
          "execution_count": 13
        }
      ]
    },
    {
      "cell_type": "code",
      "metadata": {
        "id": "Af4IptZYKdWy",
        "outputId": "8516e006-c2aa-405e-9df5-cc812a913af1",
        "colab": {
          "base_uri": "https://localhost:8080/"
        }
      },
      "source": [
        "print('empty',empty)\n",
        "\n",
        "if empty[1]%2 == 0:\n",
        "  print(\"{} is an even number\".format(empty[1]))\n",
        "elif empty[1]%2 == 1:\n",
        "  print(\"{} is an odd number\".format(empty[1]))\n",
        "else:\n",
        "  print(\"Impossible\")"
      ],
      "execution_count": 14,
      "outputs": [
        {
          "output_type": "stream",
          "text": [
            "empty [1, 2, '3']\n",
            "2 is an even number\n"
          ],
          "name": "stdout"
        }
      ]
    },
    {
      "cell_type": "code",
      "metadata": {
        "id": "HyQPHFUXKtkU",
        "outputId": "56b329f0-f78f-4f01-e0e4-3a5657aaf3b5",
        "colab": {
          "base_uri": "https://localhost:8080/"
        }
      },
      "source": [
        "for i in range(5):\n",
        "  print(i)"
      ],
      "execution_count": 15,
      "outputs": [
        {
          "output_type": "stream",
          "text": [
            "0\n",
            "1\n",
            "2\n",
            "3\n",
            "4\n"
          ],
          "name": "stdout"
        }
      ]
    },
    {
      "cell_type": "code",
      "metadata": {
        "id": "f2xfJY_2Kyuq",
        "outputId": "e428c316-2a0c-4c39-bc78-ee75500c6a67",
        "colab": {
          "base_uri": "https://localhost:8080/"
        }
      },
      "source": [
        "start = 0\n",
        "while start < 5:\n",
        "  print(start)\n",
        "  start = start + 2\n",
        "\n",
        "print(\"final value: {}\".format(start))"
      ],
      "execution_count": 16,
      "outputs": [
        {
          "output_type": "stream",
          "text": [
            "0\n",
            "2\n",
            "4\n",
            "final value: 6\n"
          ],
          "name": "stdout"
        }
      ]
    },
    {
      "cell_type": "code",
      "metadata": {
        "id": "vx2mMgLeK7th"
      },
      "source": [
        "def square_sum(a,b):\n",
        "  squared_a = a**2\n",
        "  squared_b = b**2\n",
        "\n",
        "  return squared_a + squared_b"
      ],
      "execution_count": 17,
      "outputs": []
    },
    {
      "cell_type": "code",
      "metadata": {
        "id": "Us5lAQk4LFqm",
        "outputId": "684f0da9-bb61-48bd-badf-a4561151b94e",
        "colab": {
          "base_uri": "https://localhost:8080/"
        }
      },
      "source": [
        "c = square_sum(3,4)\n",
        "print(\"squared sum of {} and {} : {}\".format(3,4,c))"
      ],
      "execution_count": 18,
      "outputs": [
        {
          "output_type": "stream",
          "text": [
            "squared sum of 3 and 4 : 25\n"
          ],
          "name": "stdout"
        }
      ]
    },
    {
      "cell_type": "code",
      "metadata": {
        "id": "wdQE3jW2LKv6"
      },
      "source": [
        "class Calculator():\n",
        "  def __init__(self):\n",
        "    self.description = \"Example for Initializaing a Class\"\n",
        "    self.result = 0\n",
        "\n",
        "  def add(self, num1, num2):\n",
        "    if type(num1) == int and type(num2) == int:\n",
        "      result = num1 + num2\n",
        "      return result\n",
        "    else:\n",
        "      raise Exception\n",
        "  def mul(self,num1,num2):\n",
        "    if type(num1) == int and type(num2) == int:\n",
        "      result = num1*num2\n",
        "      return result\n",
        "    else:\n",
        "      raise Exception"
      ],
      "execution_count": 19,
      "outputs": []
    },
    {
      "cell_type": "code",
      "metadata": {
        "id": "RHvtsONwLmcC",
        "outputId": "18efbb96-0343-427c-c0e0-115a7e28578e",
        "colab": {
          "base_uri": "https://localhost:8080/"
        }
      },
      "source": [
        "cal = Calculator()\n",
        "print(cal.description)\n",
        "print(cal.add(3,4))\n",
        "print(cal.mul(3,4))"
      ],
      "execution_count": 20,
      "outputs": [
        {
          "output_type": "stream",
          "text": [
            "Example for Initializaing a Class\n",
            "7\n",
            "12\n"
          ],
          "name": "stdout"
        }
      ]
    },
    {
      "cell_type": "code",
      "metadata": {
        "id": "dBvrDpoNLrsu",
        "outputId": "79632057-5044-4e67-fbc8-6a0f3fa27fd0",
        "colab": {
          "base_uri": "https://localhost:8080/"
        }
      },
      "source": [
        "import numpy as np\n",
        "\n",
        "array = np.array([1,2,3])\n",
        "print(array,type(array))"
      ],
      "execution_count": 21,
      "outputs": [
        {
          "output_type": "stream",
          "text": [
            "[1 2 3] <class 'numpy.ndarray'>\n"
          ],
          "name": "stdout"
        }
      ]
    },
    {
      "cell_type": "code",
      "metadata": {
        "id": "RC6ph9PcLyD-",
        "outputId": "abe0ac54-1933-4449-901c-1d59c3f399ca",
        "colab": {
          "base_uri": "https://localhost:8080/",
          "height": 282
        }
      },
      "source": [
        "import matplotlib\n",
        "import matplotlib.pyplot as plt\n",
        "\n",
        "x = [1,2,3,4,5]\n",
        "y = []\n",
        "\n",
        "for i in x:\n",
        "  y.append(i**2)\n",
        "\n",
        "plt.plot(x,y)\n",
        "plt.xlim(0,10)"
      ],
      "execution_count": 22,
      "outputs": [
        {
          "output_type": "execute_result",
          "data": {
            "text/plain": [
              "(0.0, 10.0)"
            ]
          },
          "metadata": {
            "tags": []
          },
          "execution_count": 22
        },
        {
          "output_type": "display_data",
          "data": {
            "image/png": "[encoded data removed]",
            "text/plain": [
              "<Figure size 432x288 with 1 Axes>"
            ]
          },
          "metadata": {
            "tags": [],
            "needs_background": "light"
          }
        }
      ]
    },
    {
      "cell_type": "markdown",
      "metadata": {
        "id": "CnkhMYn_MHl0"
      },
      "source": [
        "# 1. Pytorch"
      ]
    },
    {
      "cell_type": "markdown",
      "metadata": {
        "id": "JZ0QdEO2MM5P"
      },
      "source": [
        "## 1.1 Tensors/Numpy"
      ]
    },
    {
      "cell_type": "code",
      "metadata": {
        "id": "524s04mzL-OO"
      },
      "source": [
        "import torch\n",
        "import numpy as np\n",
        "\n",
        "# colab의 경우, 대부분의 package install 필요 없음 (바로 import 가능)\n",
        "# 패키지 설치가 필요한 경우 : 'pip install package_name'"
      ],
      "execution_count": 23,
      "outputs": []
    },
    {
      "cell_type": "markdown",
      "metadata": {
        "id": "CXnO3ZpyMb9a"
      },
      "source": [
        "Python List / Numpy / Tensors\n",
        "- Python List: 행렬 연산을 위해 for문 사용\n",
        "- Numpy: 차원이 다른 행렬 간에도 연산이 가능\n",
        "- Tensor: GPU 상에서 연산이 가능하고 autograd(자동 미분)연산 기능이 있는 자료형"
      ]
    },
    {
      "cell_type": "markdown",
      "metadata": {
        "id": "yvToz6qqMpdK"
      },
      "source": [
        "Tensor 생성 및 초기화"
      ]
    },
    {
      "cell_type": "code",
      "metadata": {
        "id": "2aBwU2K3MbYm",
        "outputId": "85ffb39e-bd56-46a8-f5cc-b40441a1929d",
        "colab": {
          "base_uri": "https://localhost:8080/"
        }
      },
      "source": [
        "# 초기화되지 않은 행렬 생성\n",
        "x = torch.empty(5,3)\n",
        "print(x)"
      ],
      "execution_count": 24,
      "outputs": [
        {
          "output_type": "stream",
          "text": [
            "tensor([[3.0486e-35, 0.0000e+00, 3.3631e-44],\n",
            "        [0.0000e+00,        nan, 0.0000e+00],\n",
            "        [1.1578e+27, 1.1362e+30, 7.1547e+22],\n",
            "        [4.5828e+30, 1.2121e+04, 7.1846e+22],\n",
            "        [9.2198e-39, 7.0374e+22, 1.0718e-35]])\n"
          ],
          "name": "stdout"
        }
      ]
    },
    {
      "cell_type": "code",
      "metadata": {
        "id": "S1ogxpL8M03r",
        "outputId": "3c3a4e29-b6e7-4ee1-effb-99828f179ea7",
        "colab": {
          "base_uri": "https://localhost:8080/"
        }
      },
      "source": [
        "# 0~1 사이의 랜덤 초기화 행렬 생성\n",
        "x = torch.rand(5,3)\n",
        "print(x)"
      ],
      "execution_count": 25,
      "outputs": [
        {
          "output_type": "stream",
          "text": [
            "tensor([[0.2502, 0.9121, 0.5625],\n",
            "        [0.6713, 0.5416, 0.1225],\n",
            "        [0.8423, 0.3700, 0.6645],\n",
            "        [0.5803, 0.7686, 0.5618],\n",
            "        [0.7455, 0.8475, 0.5025]])\n"
          ],
          "name": "stdout"
        }
      ]
    },
    {
      "cell_type": "code",
      "metadata": {
        "id": "LtU4ZkR5M4qr",
        "outputId": "fec5d08f-8cc9-48cb-f737-c97bf118e273",
        "colab": {
          "base_uri": "https://localhost:8080/"
        }
      },
      "source": [
        "x.mean()"
      ],
      "execution_count": 26,
      "outputs": [
        {
          "output_type": "execute_result",
          "data": {
            "text/plain": [
              "tensor(0.5962)"
            ]
          },
          "metadata": {
            "tags": []
          },
          "execution_count": 26
        }
      ]
    },
    {
      "cell_type": "code",
      "metadata": {
        "id": "KQL208avM6RF",
        "outputId": "62032f57-57b1-42f6-e9c2-c11ebd935b4e",
        "colab": {
          "base_uri": "https://localhost:8080/"
        }
      },
      "source": [
        "x.std()"
      ],
      "execution_count": 27,
      "outputs": [
        {
          "output_type": "execute_result",
          "data": {
            "text/plain": [
              "tensor(0.2229)"
            ]
          },
          "metadata": {
            "tags": []
          },
          "execution_count": 27
        }
      ]
    },
    {
      "cell_type": "code",
      "metadata": {
        "id": "LokWM6PmM7A7",
        "outputId": "a51d3ccb-b00b-4897-e17c-adfa36c15f46",
        "colab": {
          "base_uri": "https://localhost:8080/"
        }
      },
      "source": [
        "# Standard Normal Distribution에서 랜덤 초기화 행렬 생성\n",
        "x = torch.randn(5,3)\n",
        "print(x)"
      ],
      "execution_count": 28,
      "outputs": [
        {
          "output_type": "stream",
          "text": [
            "tensor([[-0.6048, -2.3748, -0.5080],\n",
            "        [ 0.4184,  0.7560,  1.2400],\n",
            "        [ 2.5244,  0.6743, -0.5724],\n",
            "        [-0.3832,  0.2840, -0.7835],\n",
            "        [ 1.8165,  0.9102, -0.0307]])\n"
          ],
          "name": "stdout"
        }
      ]
    },
    {
      "cell_type": "code",
      "metadata": {
        "id": "TVVN0pyNNCPy",
        "outputId": "fb701358-d987-48dc-c23e-c51a275cc3d1",
        "colab": {
          "base_uri": "https://localhost:8080/"
        }
      },
      "source": [
        "x.mean()\n",
        "# 0에 가까워진 걸 알 수 있음"
      ],
      "execution_count": 29,
      "outputs": [
        {
          "output_type": "execute_result",
          "data": {
            "text/plain": [
              "tensor(0.2244)"
            ]
          },
          "metadata": {
            "tags": []
          },
          "execution_count": 29
        }
      ]
    },
    {
      "cell_type": "code",
      "metadata": {
        "id": "u7RS1f71ND8R",
        "outputId": "32d997bd-faf9-46c0-bac4-d73cd37f98fe",
        "colab": {
          "base_uri": "https://localhost:8080/"
        }
      },
      "source": [
        "x.std()\n",
        "# 1에 가까워진 걸 알 수 있음"
      ],
      "execution_count": 30,
      "outputs": [
        {
          "output_type": "execute_result",
          "data": {
            "text/plain": [
              "tensor(1.1928)"
            ]
          },
          "metadata": {
            "tags": []
          },
          "execution_count": 30
        }
      ]
    },
    {
      "cell_type": "code",
      "metadata": {
        "id": "GaSwSepANEgu",
        "outputId": "471df974-b358-4794-9330-9909af4128c3",
        "colab": {
          "base_uri": "https://localhost:8080/"
        }
      },
      "source": [
        "# 특정 값을 tensor로 만들기\n",
        "x = torch.tensor([[1.2,4.5],[1,2]])\n",
        "x"
      ],
      "execution_count": 31,
      "outputs": [
        {
          "output_type": "execute_result",
          "data": {
            "text/plain": [
              "tensor([[1.2000, 4.5000],\n",
              "        [1.0000, 2.0000]])"
            ]
          },
          "metadata": {
            "tags": []
          },
          "execution_count": 31
        }
      ]
    },
    {
      "cell_type": "code",
      "metadata": {
        "id": "_Mcv04iDNUR5",
        "outputId": "f320996f-c082-495b-ad58-6721ed19df04",
        "colab": {
          "base_uri": "https://localhost:8080/"
        }
      },
      "source": [
        "x = torch.randn(3,4)\n",
        "print(x)\n",
        "print(\"x size : \",x.size())"
      ],
      "execution_count": 32,
      "outputs": [
        {
          "output_type": "stream",
          "text": [
            "tensor([[-1.0241, -0.5613, -0.3616,  0.8719],\n",
            "        [-0.0898,  0.2760,  0.9727,  0.3400],\n",
            "        [ 0.5729, -0.3240,  0.0983,  0.6944]])\n",
            "x size :  torch.Size([3, 4])\n"
          ],
          "name": "stdout"
        }
      ]
    },
    {
      "cell_type": "code",
      "metadata": {
        "id": "Tx7MAC6XNcko",
        "outputId": "15301442-dd30-4745-b1ea-b83a3d9ce52b",
        "colab": {
          "base_uri": "https://localhost:8080/"
        }
      },
      "source": [
        "# Resize = 'reshape' : any tensor\n",
        "x = torch.rand(3,4)\n",
        "y = x.reshape(4,3)\n",
        "z = x.reshape(-1,2)\n",
        "print(x,x.size(),'\\n',y,y.size(),'\\n',z,z.size())"
      ],
      "execution_count": 33,
      "outputs": [
        {
          "output_type": "stream",
          "text": [
            "tensor([[0.1591, 0.2843, 0.5548, 0.1749],\n",
            "        [0.2046, 0.6343, 0.3433, 0.2791],\n",
            "        [0.9564, 0.5325, 0.7306, 0.5430]]) torch.Size([3, 4]) \n",
            " tensor([[0.1591, 0.2843, 0.5548],\n",
            "        [0.1749, 0.2046, 0.6343],\n",
            "        [0.3433, 0.2791, 0.9564],\n",
            "        [0.5325, 0.7306, 0.5430]]) torch.Size([4, 3]) \n",
            " tensor([[0.1591, 0.2843],\n",
            "        [0.5548, 0.1749],\n",
            "        [0.2046, 0.6343],\n",
            "        [0.3433, 0.2791],\n",
            "        [0.9564, 0.5325],\n",
            "        [0.7306, 0.5430]]) torch.Size([6, 2])\n"
          ],
          "name": "stdout"
        }
      ]
    },
    {
      "cell_type": "code",
      "metadata": {
        "id": "OgoGS6jPRFuR",
        "outputId": "6de425e9-7891-4d02-9383-e735c9fc5401",
        "colab": {
          "base_uri": "https://localhost:8080/"
        }
      },
      "source": [
        "# Resize = 'view' : for contiguous tensors -> memory space에서 연속적으로 저장되어 있는 tensor\n",
        "x = torch.randn(3,4)\n",
        "y = x.view(4,3)\n",
        "z = x.view(-1,2)\n",
        "print(x,x.size(),'\\n',y,y.size(),'\\n',z,z.size())"
      ],
      "execution_count": 39,
      "outputs": [
        {
          "output_type": "stream",
          "text": [
            "tensor([[-1.8095,  0.0165,  0.0106, -2.2818],\n",
            "        [-0.0050,  1.6965, -1.3699,  0.1411],\n",
            "        [-0.7602,  0.2693,  0.8134, -0.1591]]) torch.Size([3, 4]) \n",
            " tensor([[-1.8095,  0.0165,  0.0106],\n",
            "        [-2.2818, -0.0050,  1.6965],\n",
            "        [-1.3699,  0.1411, -0.7602],\n",
            "        [ 0.2693,  0.8134, -0.1591]]) torch.Size([4, 3]) \n",
            " tensor([[-1.8095,  0.0165],\n",
            "        [ 0.0106, -2.2818],\n",
            "        [-0.0050,  1.6965],\n",
            "        [-1.3699,  0.1411],\n",
            "        [-0.7602,  0.2693],\n",
            "        [ 0.8134, -0.1591]]) torch.Size([6, 2])\n"
          ],
          "name": "stdout"
        }
      ]
    },
    {
      "cell_type": "code",
      "metadata": {
        "id": "BbosI-nRNsDu",
        "outputId": "89f62c08-4ec2-4ba6-e5e0-fdfacc0d5036",
        "colab": {
          "base_uri": "https://localhost:8080/"
        }
      },
      "source": [
        "x = torch.ones(5)\n",
        "y = x.numpy()\n",
        "print(x,type(x))\n",
        "print(y,type(y))"
      ],
      "execution_count": 34,
      "outputs": [
        {
          "output_type": "stream",
          "text": [
            "tensor([1., 1., 1., 1., 1.]) <class 'torch.Tensor'>\n",
            "[1. 1. 1. 1. 1.] <class 'numpy.ndarray'>\n"
          ],
          "name": "stdout"
        }
      ]
    },
    {
      "cell_type": "code",
      "metadata": {
        "id": "otZ9YCsANz62",
        "outputId": "c63ef82e-df13-4f72-ba1b-603aaeb92fd8",
        "colab": {
          "base_uri": "https://localhost:8080/"
        }
      },
      "source": [
        "x = np.ones(5)\n",
        "y = torch.from_numpy(x)\n",
        "print(x,type(x))\n",
        "print(y,type(y))"
      ],
      "execution_count": 35,
      "outputs": [
        {
          "output_type": "stream",
          "text": [
            "[1. 1. 1. 1. 1.] <class 'numpy.ndarray'>\n",
            "tensor([1., 1., 1., 1., 1.], dtype=torch.float64) <class 'torch.Tensor'>\n"
          ],
          "name": "stdout"
        }
      ]
    },
    {
      "cell_type": "code",
      "metadata": {
        "id": "RR7r2bvcN8ut",
        "outputId": "000e1d87-cfbb-4733-ee3d-7ea810f6a7ea",
        "colab": {
          "base_uri": "https://localhost:8080/"
        }
      },
      "source": [
        "# GPU 연산을 위한 CUDA tensor\n",
        "x = torch.ones(5)\n",
        "y = x.to(device='cuda:0') #런타임 연결 gpu로 설정\n",
        "print(x)\n",
        "print(y)"
      ],
      "execution_count": 37,
      "outputs": [
        {
          "output_type": "stream",
          "text": [
            "tensor([1., 1., 1., 1., 1.])\n",
            "tensor([1., 1., 1., 1., 1.], device='cuda:0')\n"
          ],
          "name": "stdout"
        }
      ]
    },
    {
      "cell_type": "markdown",
      "metadata": {
        "id": "OzLMUKdRO49f"
      },
      "source": [
        "####Tensor Autograd\n",
        "requires_grad를 true로 세팅하면 tensor에 대한 모든 연산 추적 가능\n",
        "이를 통해 forward propagation 후, backward() 호출 시 모든 gradient 자동으로 계산"
      ]
    },
    {
      "cell_type": "code",
      "metadata": {
        "id": "ROC-mKpiOWpS",
        "outputId": "2bfb5f46-0ec8-4987-a8a3-59245438725e",
        "colab": {
          "base_uri": "https://localhost:8080/"
        }
      },
      "source": [
        "x = torch.tensor(([1.,2.],[3.,4.,]),requires_grad=True)\n",
        "y = (x+2)**2*3\n",
        "print(y)\n",
        "\n",
        "out = y.mean()\n",
        "print(out)\n",
        "\n",
        "out.backward()\n",
        "print(x.grad) # delta(out)/delta(x)의 값들"
      ],
      "execution_count": 38,
      "outputs": [
        {
          "output_type": "stream",
          "text": [
            "tensor([[ 27.,  48.],\n",
            "        [ 75., 108.]], grad_fn=<MulBackward0>)\n",
            "tensor(64.5000, grad_fn=<MeanBackward0>)\n",
            "tensor([[4.5000, 6.0000],\n",
            "        [7.5000, 9.0000]])\n"
          ],
          "name": "stdout"
        }
      ]
    },
    {
      "cell_type": "markdown",
      "metadata": {
        "id": "wge8TE2rSCin"
      },
      "source": [
        "## 1.2 Pytorch Project"
      ]
    },
    {
      "cell_type": "markdown",
      "metadata": {
        "id": "8H4RJK0ISG_D"
      },
      "source": [
        "### 1.2.1 Load data"
      ]
    },
    {
      "cell_type": "code",
      "metadata": {
        "id": "9e0KRouJPX9q"
      },
      "source": [
        "import torchvision # to download 'CIFAR10' dataset\n",
        "import torchvision.transforms as transforms # to manipulate input data"
      ],
      "execution_count": 40,
      "outputs": []
    },
    {
      "cell_type": "code",
      "metadata": {
        "id": "_TDBAmhjSP-_",
        "outputId": "271052ec-c038-4be5-a1f7-f35c10925b18",
        "colab": {
          "base_uri": "https://localhost:8080/"
        }
      },
      "source": [
        "train_data = torchvision.datasets.CIFAR10(root = './datasets',\n",
        "                                         train = True,\n",
        "                                         transform = transforms.ToTensor(),\n",
        "                                         download = True)"
      ],
      "execution_count": 45,
      "outputs": [
        {
          "output_type": "stream",
          "text": [
            "Files already downloaded and verified\n"
          ],
          "name": "stdout"
        }
      ]
    },
    {
      "cell_type": "code",
      "metadata": {
        "id": "35dfrCqxSdyo",
        "outputId": "f22c8413-874c-4455-d00a-31ab87ec41c1",
        "colab": {
          "base_uri": "https://localhost:8080/"
        }
      },
      "source": [
        "# data check\n",
        "image, label = train_data[0]\n",
        "print(len(train_data),image.size(),label)"
      ],
      "execution_count": 46,
      "outputs": [
        {
          "output_type": "stream",
          "text": [
            "50000 torch.Size([3, 32, 32]) 6\n"
          ],
          "name": "stdout"
        }
      ]
    },
    {
      "cell_type": "code",
      "metadata": {
        "id": "N6gS3aqHTDqq"
      },
      "source": [
        "import matplotlib\n",
        "import matplotlib.pyplot as plt\n"
      ],
      "execution_count": 47,
      "outputs": []
    },
    {
      "cell_type": "code",
      "metadata": {
        "id": "EQCd-7YmTTdk",
        "outputId": "131b3bda-fed1-4bbc-a10c-cb67304e1245",
        "colab": {
          "base_uri": "https://localhost:8080/",
          "height": 137
        }
      },
      "source": [
        "plt.subplot(141)\n",
        "plt.imshow(image.permute(2,1,0))\n",
        "plt.title(label)\n",
        "plt.show()"
      ],
      "execution_count": 48,
      "outputs": [
        {
          "output_type": "display_data",
          "data": {
            "image/png": "[encoded data removed]",
            "text/plain": [
              "<Figure size 432x288 with 1 Axes>"
            ]
          },
          "metadata": {
            "tags": [],
            "needs_background": "light"
          }
        }
      ]
    },
    {
      "cell_type": "markdown",
      "metadata": {
        "id": "HtwjIfVJTe4m"
      },
      "source": [
        "### 1.2.2. Define Dataloader\n",
        "define dataloader (dataloader loads data from queue while iters loop)"
      ]
    },
    {
      "cell_type": "code",
      "metadata": {
        "id": "AF-miqOUTZ6L"
      },
      "source": [
        "data_loader = torch.utils.data.DataLoader(dataset=train_data,\n",
        "                                          batch_size = 64,\n",
        "                                          shuffle=True)"
      ],
      "execution_count": 49,
      "outputs": []
    },
    {
      "cell_type": "code",
      "metadata": {
        "id": "JP6d_JJ0TwDz",
        "outputId": "538df7db-da35-4f61-de4f-b7690b779985",
        "colab": {
          "base_uri": "https://localhost:8080/"
        }
      },
      "source": [
        "# check how data loader works\n",
        "print(len(data_loader))\n",
        "for idx,(images,labels) in enumerate(data_loader):\n",
        "  if idx==3:\n",
        "    break\n",
        "  print(image.size(),labels) # 각각 64개 label"
      ],
      "execution_count": 50,
      "outputs": [
        {
          "output_type": "stream",
          "text": [
            "782\n",
            "torch.Size([3, 32, 32]) tensor([0, 1, 1, 8, 8, 0, 1, 9, 8, 6, 6, 1, 7, 4, 3, 2, 0, 2, 3, 1, 9, 5, 3, 9,\n",
            "        8, 6, 4, 7, 4, 0, 5, 5, 4, 8, 9, 6, 8, 4, 1, 4, 3, 3, 8, 1, 1, 3, 8, 1,\n",
            "        1, 1, 9, 4, 0, 4, 7, 5, 1, 4, 2, 9, 5, 2, 7, 7])\n",
            "torch.Size([3, 32, 32]) tensor([6, 7, 7, 2, 9, 1, 1, 1, 4, 9, 3, 7, 4, 1, 3, 5, 6, 2, 6, 9, 1, 6, 0, 7,\n",
            "        8, 5, 0, 6, 8, 0, 7, 0, 2, 0, 6, 7, 5, 9, 4, 5, 6, 2, 4, 5, 4, 4, 2, 5,\n",
            "        8, 8, 6, 6, 8, 2, 1, 8, 8, 8, 4, 7, 0, 3, 7, 6])\n",
            "torch.Size([3, 32, 32]) tensor([7, 2, 9, 7, 6, 1, 5, 1, 1, 2, 9, 6, 0, 3, 2, 9, 2, 1, 7, 0, 2, 0, 5, 7,\n",
            "        2, 4, 0, 8, 7, 5, 6, 4, 1, 6, 7, 5, 7, 7, 3, 0, 7, 0, 0, 3, 7, 5, 9, 3,\n",
            "        1, 2, 9, 5, 7, 0, 5, 3, 1, 2, 3, 4, 1, 3, 8, 8])\n"
          ],
          "name": "stdout"
        }
      ]
    },
    {
      "cell_type": "markdown",
      "metadata": {
        "id": "fDKqLWnfYiNj"
      },
      "source": [
        "### 1.2.3. Define Model"
      ]
    },
    {
      "cell_type": "code",
      "metadata": {
        "id": "pKPiao8bT-9X"
      },
      "source": [
        "import torch.nn as nn\n",
        "import torch.nn.functional as F"
      ],
      "execution_count": 51,
      "outputs": []
    },
    {
      "cell_type": "code",
      "metadata": {
        "id": "-NuCCt4jYn-u"
      },
      "source": [
        "class Net(nn.Module):\n",
        "  def __init__(self):\n",
        "    super(Net, self).__init__()\n",
        "    self.layer1 = nn.Sequential(\n",
        "        nn.Conv2d(3,6,5),\n",
        "        nn.BatchNorm2d(6),\n",
        "        nn.ReLU(),\n",
        "        nn.MaxPool2d(2,2)\n",
        "    )\n",
        "    self.fc = nn.Linear(6*14*14,10)\n",
        "\n",
        "  def forward(self,x):\n",
        "    out = self.layer1(x)\n",
        "    out = out.reshape(out.size(0),-1)\n",
        "    out = self.fc(out)\n",
        "\n",
        "    return out\n",
        "\n",
        "model = Net()"
      ],
      "execution_count": 52,
      "outputs": []
    },
    {
      "cell_type": "code",
      "metadata": {
        "id": "ZAy1vQHlZjLn",
        "outputId": "92259e57-a5c3-49ae-cffa-ef01474de5e9",
        "colab": {
          "base_uri": "https://localhost:8080/"
        }
      },
      "source": [
        "# check which layers constitute Network\n",
        "print(model)"
      ],
      "execution_count": 53,
      "outputs": [
        {
          "output_type": "stream",
          "text": [
            "Net(\n",
            "  (layer1): Sequential(\n",
            "    (0): Conv2d(3, 6, kernel_size=(5, 5), stride=(1, 1))\n",
            "    (1): BatchNorm2d(6, eps=1e-05, momentum=0.1, affine=True, track_running_stats=True)\n",
            "    (2): ReLU()\n",
            "    (3): MaxPool2d(kernel_size=2, stride=2, padding=0, dilation=1, ceil_mode=False)\n",
            "  )\n",
            "  (fc): Linear(in_features=1176, out_features=10, bias=True)\n",
            ")\n"
          ],
          "name": "stdout"
        }
      ]
    },
    {
      "cell_type": "code",
      "metadata": {
        "id": "5RSuZ47MZvUr",
        "outputId": "35100606-b773-4174-e6f7-336d99d4c12b",
        "colab": {
          "base_uri": "https://localhost:8080/"
        }
      },
      "source": [
        "# check how data passes through the Network\n",
        "data_iter = iter(data_loader)\n",
        "images, labels = data_iter.next()\n",
        "outputs = model(images)\n",
        "print(outputs.size(),'\\n',outputs[0],'\\n',outputs[0].tolist().index(max(outputs[0])))"
      ],
      "execution_count": 55,
      "outputs": [
        {
          "output_type": "stream",
          "text": [
            "torch.Size([64, 10]) \n",
            " tensor([ 0.3675, -0.3137, -0.3097, -0.0124, -0.8218,  0.3976, -0.8984, -0.4265,\n",
            "        -0.7623,  0.0014], grad_fn=<SelectBackward>) \n",
            " 5\n"
          ],
          "name": "stdout"
        }
      ]
    },
    {
      "cell_type": "markdown",
      "metadata": {
        "id": "Ks_opB1Vc0Rm"
      },
      "source": [
        "### 1.2.4. Set Loss & Optimizer"
      ]
    },
    {
      "cell_type": "code",
      "metadata": {
        "id": "c0Vc63Wbcm64"
      },
      "source": [
        "criterion = nn.CrossEntropyLoss()\n",
        "optimizer = torch.optim.SGD(model.parameters(),lr=0.001)"
      ],
      "execution_count": 56,
      "outputs": []
    },
    {
      "cell_type": "markdown",
      "metadata": {
        "id": "YEySuXo6c-1O"
      },
      "source": [
        "### 1.2.5. Train/Test"
      ]
    },
    {
      "cell_type": "code",
      "metadata": {
        "id": "vL6CaT_lc9xn",
        "outputId": "4b1ff598-06da-4819-d6f5-592e83ae86dd",
        "colab": {
          "base_uri": "https://localhost:8080/"
        }
      },
      "source": [
        "epochs = 1\n",
        "for epoch in range(epochs):\n",
        "  for i, (images, labels) in enumerate(data_loader):\n",
        "    # Forward Propagate\n",
        "    outputs = model(images)\n",
        "\n",
        "    #Get Loss, Compute Gradients, Update Parameters\n",
        "    loss = criterion(outputs, labels) # calculate loss: softmax -> cross entropy loss\n",
        "    optimizer.zero_grad() # clear gradients w.r.t. parameters\n",
        "    loss.backward() # getting gradients w.r.t parameters\n",
        "    optimizer.step() # updating parameters\n",
        "\n",
        "    if i% 50 == 0 or (i+1) == len(data_loader):\n",
        "      print('Epoch [{}/{}], Step [{}/{}], Loss: {:.4f}'.format(epoch+1,epochs,i+1,len(data_loader),loss.item()))"
      ],
      "execution_count": 58,
      "outputs": [
        {
          "output_type": "stream",
          "text": [
            "Epoch [1/1], Step [1/782], Loss: 2.3794\n",
            "Epoch [1/1], Step [51/782], Loss: 2.2210\n",
            "Epoch [1/1], Step [101/782], Loss: 2.0592\n",
            "Epoch [1/1], Step [151/782], Loss: 1.9948\n",
            "Epoch [1/1], Step [201/782], Loss: 2.0342\n",
            "Epoch [1/1], Step [251/782], Loss: 2.0277\n",
            "Epoch [1/1], Step [301/782], Loss: 2.0057\n",
            "Epoch [1/1], Step [351/782], Loss: 1.8355\n",
            "Epoch [1/1], Step [401/782], Loss: 1.9506\n",
            "Epoch [1/1], Step [451/782], Loss: 2.0053\n",
            "Epoch [1/1], Step [501/782], Loss: 1.7409\n",
            "Epoch [1/1], Step [551/782], Loss: 1.9402\n",
            "Epoch [1/1], Step [601/782], Loss: 1.7073\n",
            "Epoch [1/1], Step [651/782], Loss: 1.8813\n",
            "Epoch [1/1], Step [701/782], Loss: 1.9432\n",
            "Epoch [1/1], Step [751/782], Loss: 1.7403\n",
            "Epoch [1/1], Step [782/782], Loss: 2.1083\n"
          ],
          "name": "stdout"
        }
      ]
    },
    {
      "cell_type": "markdown",
      "metadata": {
        "id": "n_gbZgYVeNqD"
      },
      "source": [
        "### 1.2.5. Save & Visualization"
      ]
    },
    {
      "cell_type": "code",
      "metadata": {
        "id": "sOquw5s7d8OY"
      },
      "source": [
        "torch.save(model.state_dict(),'my_model.pth')"
      ],
      "execution_count": 59,
      "outputs": []
    },
    {
      "cell_type": "code",
      "metadata": {
        "id": "TYrQrWT3eV8m",
        "outputId": "6b9ac282-66aa-4f59-d226-355e3e2d2d91",
        "colab": {
          "base_uri": "https://localhost:8080/"
        }
      },
      "source": [
        "#check the saved model\n",
        "! ls\n"
      ],
      "execution_count": 60,
      "outputs": [
        {
          "output_type": "stream",
          "text": [
            "datasets  my_model.pth\tsample_data\n"
          ],
          "name": "stdout"
        }
      ]
    },
    {
      "cell_type": "markdown",
      "metadata": {
        "id": "4A-11HNYeaLG"
      },
      "source": [
        "# 2. XOR in pytorch"
      ]
    },
    {
      "cell_type": "code",
      "metadata": {
        "id": "30mjJZ4ceX8b"
      },
      "source": [
        "import numpy as np\n",
        "import torch\n",
        "import torch.nn as nn\n",
        "import matplotlib.pyplot as plt\n"
      ],
      "execution_count": 61,
      "outputs": []
    },
    {
      "cell_type": "code",
      "metadata": {
        "id": "0phRvXvzehkA"
      },
      "source": [
        "x = torch.tensor([[0.,0.],[0.,1.],[1.,0.],[1.,1.]])\n",
        "y = torch.tensor([0.,1.,1.,0.]).view(-1,1)"
      ],
      "execution_count": 63,
      "outputs": []
    },
    {
      "cell_type": "code",
      "metadata": {
        "id": "ZUuhCQDuesCL"
      },
      "source": [
        "class XOR_net(nn.Module):\n",
        "  def __init__(self):\n",
        "    super(XOR_net,self).__init__()\n",
        "    self.layer1 = nn.Sequential(\n",
        "        nn.Linear(2,1),\n",
        "        nn.Sigmoid()\n",
        "    )\n",
        "\n",
        "    self.layer2 = nn.Sequential(\n",
        "        nn.Linear(2,3),\n",
        "        nn.Sigmoid(),\n",
        "        nn.Linear(3,1),\n",
        "        nn.Sigmoid()\n",
        "    )\n",
        "\n",
        "  def forward(self,input,num_layer):\n",
        "    if num_layer == 1:\n",
        "      out = self.layer1(input)\n",
        "    elif num_layer == 2:\n",
        "      out = self.layer2(input)\n",
        "    else:\n",
        "      print(\"out of range\")\n",
        "      raise\n",
        "    return out"
      ],
      "execution_count": 64,
      "outputs": []
    },
    {
      "cell_type": "code",
      "metadata": {
        "id": "FpKtjETZfOVg"
      },
      "source": [
        "net = XOR_net()"
      ],
      "execution_count": 65,
      "outputs": []
    },
    {
      "cell_type": "code",
      "metadata": {
        "id": "iw7xTdVsfP-g",
        "outputId": "6304859f-8403-405b-9082-f7aab3b3f302",
        "colab": {
          "base_uri": "https://localhost:8080/"
        }
      },
      "source": [
        "print(net)"
      ],
      "execution_count": 66,
      "outputs": [
        {
          "output_type": "stream",
          "text": [
            "XOR_net(\n",
            "  (layer1): Sequential(\n",
            "    (0): Linear(in_features=2, out_features=1, bias=True)\n",
            "    (1): Sigmoid()\n",
            "  )\n",
            "  (layer2): Sequential(\n",
            "    (0): Linear(in_features=2, out_features=3, bias=True)\n",
            "    (1): Sigmoid()\n",
            "    (2): Linear(in_features=3, out_features=1, bias=True)\n",
            "    (3): Sigmoid()\n",
            "  )\n",
            ")\n"
          ],
          "name": "stdout"
        }
      ]
    },
    {
      "cell_type": "code",
      "metadata": {
        "id": "72hPmFGsfQvm"
      },
      "source": [
        "learning_rate = 0.05\n",
        "epochs = 10000"
      ],
      "execution_count": 68,
      "outputs": []
    },
    {
      "cell_type": "code",
      "metadata": {
        "id": "w3AOfwcbfVm6"
      },
      "source": [
        "criterion = nn.BCELoss()\n",
        "optimizer = torch.optim.SGD(net.parameters(),lr = learning_rate)"
      ],
      "execution_count": 69,
      "outputs": []
    },
    {
      "cell_type": "code",
      "metadata": {
        "id": "wTE_7pPRfdkG"
      },
      "source": [
        "error1, error2 = [],[]"
      ],
      "execution_count": 70,
      "outputs": []
    },
    {
      "cell_type": "code",
      "metadata": {
        "id": "0-GmQ0v-ffUZ",
        "outputId": "4c202e94-5afa-4704-a236-5d71a9e2b8c5",
        "colab": {
          "base_uri": "https://localhost:8080/"
        }
      },
      "source": [
        "for epoch in range(epochs):\n",
        "  for i, (input, ans) in enumerate(zip(x,y)):\n",
        "    output1 = net(input,1)\n",
        "    output2 = net(input,2)\n",
        "\n",
        "    loss1 = criterion(output1,ans)\n",
        "    loss2 = criterion(output2,ans)\n",
        "\n",
        "    optimizer.zero_grad() # clear gradients w.r.t parameters\n",
        "    loss1.backward() # getting gradients w.r.t parameters\n",
        "    loss2.backward()\n",
        "    optimizer.step() # updating parameters\n",
        "\n",
        "    error1.append(loss1.detach().numpy())\n",
        "    error2.append(loss2.detach().numpy())\n",
        "\n",
        "  if epoch % 500 == 0 or (epoch+1)==epochs:\n",
        "    print('Epoch [{}/{}] Loss1: {:.4f} Loss2: {:.4f}'.format(epoch+1,epochs,loss1,loss2))"
      ],
      "execution_count": 71,
      "outputs": [
        {
          "output_type": "stream",
          "text": [
            "Epoch [1/10000] Loss1: 0.9161 Loss2: 0.7913\n",
            "Epoch [501/10000] Loss1: 0.7050 Loss2: 0.7187\n",
            "Epoch [1001/10000] Loss1: 0.7059 Loss2: 0.7133\n",
            "Epoch [1501/10000] Loss1: 0.7059 Loss2: 0.6874\n",
            "Epoch [2001/10000] Loss1: 0.7059 Loss2: 0.6371\n",
            "Epoch [2501/10000] Loss1: 0.7059 Loss2: 0.6874\n",
            "Epoch [3001/10000] Loss1: 0.7059 Loss2: 0.4890\n",
            "Epoch [3501/10000] Loss1: 0.7059 Loss2: 0.1512\n",
            "Epoch [4001/10000] Loss1: 0.7059 Loss2: 0.0811\n",
            "Epoch [4501/10000] Loss1: 0.7059 Loss2: 0.0546\n",
            "Epoch [5001/10000] Loss1: 0.7059 Loss2: 0.0408\n",
            "Epoch [5501/10000] Loss1: 0.7059 Loss2: 0.0325\n",
            "Epoch [6001/10000] Loss1: 0.7059 Loss2: 0.0270\n",
            "Epoch [6501/10000] Loss1: 0.7059 Loss2: 0.0230\n",
            "Epoch [7001/10000] Loss1: 0.7059 Loss2: 0.0200\n",
            "Epoch [7501/10000] Loss1: 0.7059 Loss2: 0.0178\n",
            "Epoch [8001/10000] Loss1: 0.7059 Loss2: 0.0159\n",
            "Epoch [8501/10000] Loss1: 0.7059 Loss2: 0.0144\n",
            "Epoch [9001/10000] Loss1: 0.7059 Loss2: 0.0132\n",
            "Epoch [9501/10000] Loss1: 0.7059 Loss2: 0.0122\n",
            "Epoch [10000/10000] Loss1: 0.7059 Loss2: 0.0113\n"
          ],
          "name": "stdout"
        }
      ]
    },
    {
      "cell_type": "code",
      "metadata": {
        "id": "S5pAQhSdgaG7",
        "outputId": "8a76c6aa-6be9-4af8-cfc8-4086a1284c54",
        "colab": {
          "base_uri": "https://localhost:8080/"
        }
      },
      "source": [
        "for input, target in zip(x,y):\n",
        "  output1 = net(input,1)\n",
        "  output2 = net(input,2)\n",
        "  print(\"input: \", input, \"layer1: \",output1.data,\"\\tlayer2: \",output2.data,\"\\tanswer:\",target)"
      ],
      "execution_count": 72,
      "outputs": [
        {
          "output_type": "stream",
          "text": [
            "input:  tensor([0., 0.]) layer1:  tensor([0.5063]) \tlayer2:  tensor([0.0014]) \tanswer: tensor([0.])\n",
            "input:  tensor([0., 1.]) layer1:  tensor([0.5000]) \tlayer2:  tensor([0.9915]) \tanswer: tensor([1.])\n",
            "input:  tensor([1., 0.]) layer1:  tensor([0.4937]) \tlayer2:  tensor([0.9933]) \tanswer: tensor([1.])\n",
            "input:  tensor([1., 1.]) layer1:  tensor([0.4873]) \tlayer2:  tensor([0.0112]) \tanswer: tensor([0.])\n"
          ],
          "name": "stdout"
        }
      ]
    },
    {
      "cell_type": "code",
      "metadata": {
        "id": "khM1KxYUiX0V",
        "outputId": "69ebf514-ecb6-4e1f-cd1f-11278eaebe13",
        "colab": {
          "base_uri": "https://localhost:8080/",
          "height": 281
        }
      },
      "source": [
        "plt.plot(error1)\n",
        "plt.title(\"Layer1 error\")\n",
        "plt.show()"
      ],
      "execution_count": 73,
      "outputs": [
        {
          "output_type": "display_data",
          "data": {
            "image/png": "[encoded data removed]",
            "text/plain": [
              "<Figure size 432x288 with 1 Axes>"
            ]
          },
          "metadata": {
            "tags": [],
            "needs_background": "light"
          }
        }
      ]
    },
    {
      "cell_type": "code",
      "metadata": {
        "id": "4hEWbv1YigjB",
        "outputId": "dc9b5e25-640c-488f-ed4e-dd645ceeda52",
        "colab": {
          "base_uri": "https://localhost:8080/",
          "height": 281
        }
      },
      "source": [
        "plt.plot(error2)\n",
        "plt.title(\"Layer2 error\")\n",
        "plt.show()"
      ],
      "execution_count": 74,
      "outputs": [
        {
          "output_type": "display_data",
          "data": {
            "image/png": "[encoded data removed]",
            "text/plain": [
              "<Figure size 432x288 with 1 Axes>"
            ]
          },
          "metadata": {
            "tags": [],
            "needs_background": "light"
          }
        }
      ]
    },
    {
      "cell_type": "code",
      "metadata": {
        "id": "mS_ZyzoUik_u"
      },
      "source": [
        ""
      ],
      "execution_count": null,
      "outputs": []
    }
  ]
}